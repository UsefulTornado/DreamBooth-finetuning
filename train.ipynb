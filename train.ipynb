{
 "cells": [
  {
   "cell_type": "markdown",
   "metadata": {},
   "source": [
    "# Обучение модели Stable Diffusion с помощью DreamBooth и LoRA"
   ]
  },
  {
   "cell_type": "code",
   "execution_count": null,
   "metadata": {},
   "outputs": [],
   "source": [
    "import os\n",
    "import numpy as np\n",
    "import random\n",
    "import torch"
   ]
  },
  {
   "cell_type": "code",
   "execution_count": null,
   "metadata": {},
   "outputs": [],
   "source": [
    "SEED = 42"
   ]
  },
  {
   "cell_type": "code",
   "execution_count": null,
   "metadata": {},
   "outputs": [],
   "source": [
    "def seed_everything(TORCH_SEED):\n",
    "\trandom.seed(TORCH_SEED)\n",
    "\tnp.random.seed(TORCH_SEED)\n",
    "\ttorch.manual_seed(TORCH_SEED)\n",
    "\ttorch.cuda.manual_seed_all(TORCH_SEED)\n",
    "\ttorch.backends.cudnn.deterministic = True\n",
    "\ttorch.backends.cudnn.benchmark = False"
   ]
  },
  {
   "cell_type": "code",
   "execution_count": null,
   "metadata": {},
   "outputs": [],
   "source": [
    "seed_everything(SEED)"
   ]
  },
  {
   "cell_type": "markdown",
   "metadata": {},
   "source": [
    "## Training"
   ]
  },
  {
   "cell_type": "code",
   "execution_count": null,
   "metadata": {},
   "outputs": [],
   "source": [
    "PRETRAINED_MODEL = \"runwayml/stable-diffusion-v1-5\"\n",
    "\n",
    "INSTANCE_PROMPT = \"a sks lemur\"\n",
    "CLASS_PROMPT = \"lemur\"\n",
    "\n",
    "NUM_IMAGES = 6\n",
    "\n",
    "FP_16 = True\n",
    "BATCH_SIZE = 1\n",
    "\n",
    "LEARNING_RATE = 0.001\n",
    "STEPS = 1200\n",
    "WITH_PRIOR_PRESERVATION = False\n",
    "PRIOR_LOSS_WEIGHT = 0.001\n",
    "LORA_RANK = 16\n",
    "\n",
    "NEW_LEARNING_RATE = LEARNING_RATE / BATCH_SIZE\n",
    "\n",
    "INSTANCE_DIR = f\"./data/images/train/{NUM_IMAGES}\"\n",
    "CLASS_DIR = \"./data/class_images\"\n",
    "LOSS_SUBSTRING = f\"with_pp-loss_weight_{PRIOR_LOSS_WEIGHT}\" if WITH_PRIOR_PRESERVATION else \"without_pp\"\n",
    "OUTPUT_DIR = f\"./checkpoints/output-images_{NUM_IMAGES}-{LOSS_SUBSTRING}-lr_{NEW_LEARNING_RATE}-numsteps_{STEPS}-rank_{LORA_RANK}\"\n",
    "\n",
    "RESOLUTION = 512\n",
    "\n",
    "if not os.path.exists(str(OUTPUT_DIR)):\n",
    "    %mkdir -p \"$OUTPUT_DIR\""
   ]
  },
  {
   "cell_type": "code",
   "execution_count": null,
   "metadata": {},
   "outputs": [],
   "source": [
    "if FP_16:\n",
    "  fp_16_arg = \"fp16\"\n",
    "else:\n",
    "  fp_16_arg = \"no\"\n",
    "\n",
    "if WITH_PRIOR_PRESERVATION:\n",
    "  command = (f'CUDA_DEVICE_ORDER=PCI_BUS_ID CUDA_VISIBLE_DEVICES=5 accelerate launch train_dreambooth_lora.py '\n",
    "             f'--pretrained_model_name_or_path=\"{PRETRAINED_MODEL}\" '\n",
    "             f'--instance_data_dir=\"{INSTANCE_DIR}\" '\n",
    "             f'--class_data_dir=\"{CLASS_DIR}\" '\n",
    "             f'--output_dir=\"{OUTPUT_DIR}\" '\n",
    "             f'--instance_prompt=\"{INSTANCE_PROMPT}\" '\n",
    "             f'--class_prompt=\"{CLASS_PROMPT}\" '\n",
    "             f'--seed=\"{SEED}\" '\n",
    "             f'--resolution=512 '\n",
    "             f'--use_8bit_adam '\n",
    "             f'--mixed_precision=\"{fp_16_arg}\" '\n",
    "             f'--train_batch_size=1 '\n",
    "             f'--gradient_accumulation_steps=1 '\n",
    "             f'--with_prior_preservation '\n",
    "             f'--prior_loss_weight={PRIOR_LOSS_WEIGHT} '\n",
    "             f'--learning_rate={NEW_LEARNING_RATE} '\n",
    "             f'--lr_scheduler=\"constant\" '\n",
    "             f'--lr_warmup_steps=0 '\n",
    "             f'--max_train_steps={STEPS} '\n",
    "             f'--rank={LORA_RANK} '\n",
    "            )\n",
    "else:\n",
    "  command = (f'CUDA_DEVICE_ORDER=PCI_BUS_ID CUDA_VISIBLE_DEVICES=5 accelerate launch train_dreambooth_lora.py '\n",
    "             f'--pretrained_model_name_or_path=\"{PRETRAINED_MODEL}\" '\n",
    "             f'--instance_data_dir=\"{INSTANCE_DIR}\" '\n",
    "             f'--output_dir=\"{OUTPUT_DIR}\" '\n",
    "             f'--instance_prompt=\"{INSTANCE_PROMPT}\" '\n",
    "             f'--seed=\"{SEED}\" '\n",
    "             f'--resolution=512 '\n",
    "             f'--use_8bit_adam '\n",
    "             f'--mixed_precision=\"{fp_16_arg}\" '\n",
    "             f'--train_batch_size=1 '\n",
    "             f'--gradient_accumulation_steps=1 '\n",
    "             f'--learning_rate={NEW_LEARNING_RATE} '\n",
    "             f'--lr_scheduler=\"constant\" '\n",
    "             f'--lr_warmup_steps=0 '\n",
    "             f'--max_train_steps={STEPS} '\n",
    "             f'--rank={LORA_RANK} '\n",
    "            )"
   ]
  },
  {
   "cell_type": "code",
   "execution_count": null,
   "metadata": {},
   "outputs": [],
   "source": [
    "!{command}"
   ]
  },
  {
   "cell_type": "markdown",
   "metadata": {},
   "source": [
    "## Inference"
   ]
  },
  {
   "cell_type": "code",
   "execution_count": null,
   "metadata": {},
   "outputs": [],
   "source": [
    "from diffusers import DiffusionPipeline, DPMSolverMultistepScheduler"
   ]
  },
  {
   "cell_type": "code",
   "execution_count": null,
   "metadata": {},
   "outputs": [],
   "source": [
    "pipe = DiffusionPipeline.from_pretrained(\"runwayml/stable-diffusion-v1-5\", torch_dtype=torch.float16)\n",
    "pipe.scheduler = DPMSolverMultistepScheduler.from_config(pipe.scheduler.config)\n",
    "pipe.to(\"cuda\")\n",
    "pipe.unet.load_attn_procs(f\"./{OUTPUT_DIR}/pytorch_lora_weights.safetensors\")"
   ]
  },
  {
   "cell_type": "code",
   "execution_count": null,
   "metadata": {},
   "outputs": [],
   "source": [
    "unique_token, class_token = \"sks\", \"lemur\"\n",
    "prompts = [p.format(unique_token, class_token) for p in prompts]"
   ]
  },
  {
   "cell_type": "code",
   "execution_count": null,
   "metadata": {},
   "outputs": [],
   "source": [
    "!mkdir {OUTPUT_DIR}/images"
   ]
  },
  {
   "cell_type": "code",
   "execution_count": null,
   "metadata": {},
   "outputs": [],
   "source": [
    "generator = torch.Generator(device=\"cuda\").manual_seed(SEED)"
   ]
  },
  {
   "cell_type": "code",
   "execution_count": null,
   "metadata": {},
   "outputs": [],
   "source": [
    "for idx, prompt in enumerate(prompts):\n",
    "    pipe(prompt, num_inference_steps=50, generator=generator).images[0].save(f'./{OUTPUT_DIR}/images/{idx}.jpg')"
   ]
  }
 ],
 "metadata": {
  "kernelspec": {
   "display_name": "venv",
   "language": "python",
   "name": "python3"
  },
  "language_info": {
   "codemirror_mode": {
    "name": "ipython",
    "version": 3
   },
   "file_extension": ".py",
   "mimetype": "text/x-python",
   "name": "python",
   "nbconvert_exporter": "python",
   "pygments_lexer": "ipython3",
   "version": "3.9.16"
  },
  "orig_nbformat": 4
 },
 "nbformat": 4,
 "nbformat_minor": 2
}
